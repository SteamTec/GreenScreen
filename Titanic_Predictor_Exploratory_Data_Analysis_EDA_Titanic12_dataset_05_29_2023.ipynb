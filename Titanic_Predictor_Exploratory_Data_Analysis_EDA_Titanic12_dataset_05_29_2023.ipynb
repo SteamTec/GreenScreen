{
  "cells": [
    {
      "cell_type": "markdown",
      "metadata": {
        "id": "view-in-github",
        "colab_type": "text"
      },
      "source": [
        "<a href=\"https://colab.research.google.com/github/SteamTec/GreenScreen/blob/main/Titanic_Predictor_Exploratory_Data_Analysis_EDA_Titanic12_dataset_05_29_2023.ipynb\" target=\"_parent\"><img src=\"https://colab.research.google.com/assets/colab-badge.svg\" alt=\"Open In Colab\"/></a>"
      ]
    },
    {
      "cell_type": "markdown",
      "metadata": {
        "id": "UPYGAU9bdnca"
      },
      "source": [
        "Load Dataset for review.  Load varous packages to assist in the dataset review. "
      ]
    },
    {
      "cell_type": "markdown",
      "metadata": {
        "id": "75bqxw8B4m5t"
      },
      "source": [
        "This document is a thorough overview of my process for building a predictive model for Kaggle’s Titanic competition. I will provide all my essential steps in this model as well as the reasoning behind each decision I made. This model achieves a score of 80.38%, which is in the top 10% of all submissions at the time of this writing. This is a great introductory modeling exercise due to the simple nature of the data, yet there is still a lot to be gleaned from following a process that ultimately yields a high score.  \n",
        "\n",
        "By:  **Zlatan Kremonic   30 Jan 2017**\n"
      ]
    },
    {
      "cell_type": "markdown",
      "metadata": {
        "id": "WRZhNCaE5NAs"
      },
      "source": [
        "File calls modified for use by Reid Becker, Machine Learning Course, STEAM Tech Teams 5/29/2023."
      ]
    },
    {
      "cell_type": "code",
      "execution_count": null,
      "metadata": {
        "colab": {
          "base_uri": "https://localhost:8080/"
        },
        "id": "23K8i8nJ1W9n",
        "outputId": "0f07820c-02d2-432a-e2fb-df256963b361"
      },
      "outputs": [
        {
          "output_type": "stream",
          "name": "stdout",
          "text": [
            "--2023-05-29 21:19:25--  https://github.com/SteamTec/GreenScreen/blob/main/Titanic1.Training.Dataset.csv?raw=true\n",
            "Resolving github.com (github.com)... 140.82.112.4\n",
            "Connecting to github.com (github.com)|140.82.112.4|:443... connected.\n",
            "HTTP request sent, awaiting response... 302 Found\n",
            "Location: https://github.com/SteamTec/GreenScreen/raw/main/Titanic1.Training.Dataset.csv [following]\n",
            "--2023-05-29 21:19:25--  https://github.com/SteamTec/GreenScreen/raw/main/Titanic1.Training.Dataset.csv\n",
            "Reusing existing connection to github.com:443.\n",
            "HTTP request sent, awaiting response... 302 Found\n",
            "Location: https://raw.githubusercontent.com/SteamTec/GreenScreen/main/Titanic1.Training.Dataset.csv [following]\n",
            "--2023-05-29 21:19:25--  https://raw.githubusercontent.com/SteamTec/GreenScreen/main/Titanic1.Training.Dataset.csv\n",
            "Resolving raw.githubusercontent.com (raw.githubusercontent.com)... 185.199.108.133, 185.199.109.133, 185.199.110.133, ...\n",
            "Connecting to raw.githubusercontent.com (raw.githubusercontent.com)|185.199.108.133|:443... connected.\n",
            "HTTP request sent, awaiting response... 200 OK\n",
            "Length: 65805 (64K) [text/plain]\n",
            "Saving to: ‘Titanic1.Training.Dataset.csv?raw=true.1’\n",
            "\n",
            "Titanic1.Training.D 100%[===================>]  64.26K  --.-KB/s    in 0.02s   \n",
            "\n",
            "2023-05-29 21:19:25 (3.32 MB/s) - ‘Titanic1.Training.Dataset.csv?raw=true.1’ saved [65805/65805]\n",
            "\n",
            "--2023-05-29 21:19:25--  https://github.com/SteamTec/GreenScreen/blob/main/test3_Titanic_Dataset_Students.csv?raw=true\n",
            "Resolving github.com (github.com)... 140.82.113.4\n",
            "Connecting to github.com (github.com)|140.82.113.4|:443... connected.\n",
            "HTTP request sent, awaiting response... 302 Found\n",
            "Location: https://github.com/SteamTec/GreenScreen/raw/main/test3_Titanic_Dataset_Students.csv [following]\n",
            "--2023-05-29 21:19:25--  https://github.com/SteamTec/GreenScreen/raw/main/test3_Titanic_Dataset_Students.csv\n",
            "Reusing existing connection to github.com:443.\n",
            "HTTP request sent, awaiting response... 302 Found\n",
            "Location: https://raw.githubusercontent.com/SteamTec/GreenScreen/main/test3_Titanic_Dataset_Students.csv [following]\n",
            "--2023-05-29 21:19:25--  https://raw.githubusercontent.com/SteamTec/GreenScreen/main/test3_Titanic_Dataset_Students.csv\n",
            "Resolving raw.githubusercontent.com (raw.githubusercontent.com)... 185.199.108.133, 185.199.109.133, 185.199.110.133, ...\n",
            "Connecting to raw.githubusercontent.com (raw.githubusercontent.com)|185.199.108.133|:443... connected.\n",
            "HTTP request sent, awaiting response... 200 OK\n",
            "Length: 1381 (1.3K) [text/plain]\n",
            "Saving to: ‘test3_Titanic_Dataset_Students.csv?raw=true.1’\n",
            "\n",
            "test3_Titanic_Datas 100%[===================>]   1.35K  --.-KB/s    in 0s      \n",
            "\n",
            "2023-05-29 21:19:25 (27.3 MB/s) - ‘test3_Titanic_Dataset_Students.csv?raw=true.1’ saved [1381/1381]\n",
            "\n"
          ]
        }
      ],
      "source": [
        "# This Python 3 environment comes with many helpful analytics libraries installed\n",
        "# It is defined by the kaggle/python Docker image: https://github.com/kaggle/docker-python\n",
        "# For example, here's several helpful packages to load\n",
        "\n",
        "import os\n",
        "import numpy as np # linear algebra\n",
        "import pandas as pd # data processing, CSV file I/O (e.g. pd.read_csv)\n",
        "import matplotlib.pyplot as plt\n",
        "import seaborn as sns\n",
        "\n",
        "# Attach the training dataset\n",
        "#Reid is using a different dataset housed in STEAM Tech Teams' Greenscreen folder\n",
        "!wget https://github.com/SteamTec/GreenScreen/blob/main/Titanic1.Training.Dataset.csv?raw=true\n",
        "\n",
        "# Attach the test dataset (includes student names)\n",
        "#Reid is using a separate Test dataset housed in STEAM Tech Teams' Greenscreen folder\n",
        "!wget https://github.com/SteamTec/GreenScreen/blob/main/test3_Titanic_Dataset_Students.csv?raw=true\n",
        "\n",
        "# Input data files are available in the read-only \"../input/\" directory\n",
        "# For example, running this (by clicking run or pressing Shift+Enter) will list all files under the input directory\n",
        "\n",
        "#Line below for Kaggle file analysis\n",
        "#import os \n",
        "#for dirname, _, filenames in os.walk('/kaggle/input'):\n",
        "    #for filename in filenames:\n",
        "        #print(os.path.join(dirname, filename))\n",
        "#Set the maximum columns and rows when displaying pandas DataFrame\n",
        "pd.options.display.max_rows=200\n",
        "pd.options.display.max_columns=200\n"
      ]
    },
    {
      "cell_type": "code",
      "execution_count": null,
      "metadata": {
        "id": "m0i0QsrP1W9r",
        "colab": {
          "base_uri": "https://localhost:8080/",
          "height": 206
        },
        "outputId": "d60149eb-9cb7-48a9-bc15-23dd3cb17fef"
      },
      "outputs": [
        {
          "output_type": "execute_result",
          "data": {
            "text/plain": [
              "   PassengerId  Survived  Pclass Name_Title  \\\n",
              "0            1         0       3        Mr.   \n",
              "1            2         1       1       Mrs.   \n",
              "2            3         1       3      Miss.   \n",
              "3            4         1       1       Mrs.   \n",
              "4            5         0       3        Mr.   \n",
              "\n",
              "                                                Name     Sex   Age  SibSp  \\\n",
              "0                            Braund, Mr. Owen Harris    male  22.0      1   \n",
              "1  Cumings, Mrs. John Bradley (Florence Briggs Th...  female  38.0      1   \n",
              "2                             Heikkinen, Miss. Laina  female  26.0      0   \n",
              "3       Futrelle, Mrs. Jacques Heath (Lily May Peel)  female  35.0      1   \n",
              "4                           Allen, Mr. William Henry    male  35.0      0   \n",
              "\n",
              "   Parch            Ticket     Fare Cabin Embarked  \n",
              "0      0         A/5 21171   7.2500   NaN        S  \n",
              "1      0          PC 17599  71.2833   C85        C  \n",
              "2      0  STON/O2. 3101282   7.9250   NaN        S  \n",
              "3      0            113803  53.1000  C123        S  \n",
              "4      0            373450   8.0500   NaN        S  "
            ],
            "text/html": [
              "\n",
              "  <div id=\"df-36bc6995-5f84-483e-9003-35f371041fe0\">\n",
              "    <div class=\"colab-df-container\">\n",
              "      <div>\n",
              "<style scoped>\n",
              "    .dataframe tbody tr th:only-of-type {\n",
              "        vertical-align: middle;\n",
              "    }\n",
              "\n",
              "    .dataframe tbody tr th {\n",
              "        vertical-align: top;\n",
              "    }\n",
              "\n",
              "    .dataframe thead th {\n",
              "        text-align: right;\n",
              "    }\n",
              "</style>\n",
              "<table border=\"1\" class=\"dataframe\">\n",
              "  <thead>\n",
              "    <tr style=\"text-align: right;\">\n",
              "      <th></th>\n",
              "      <th>PassengerId</th>\n",
              "      <th>Survived</th>\n",
              "      <th>Pclass</th>\n",
              "      <th>Name_Title</th>\n",
              "      <th>Name</th>\n",
              "      <th>Sex</th>\n",
              "      <th>Age</th>\n",
              "      <th>SibSp</th>\n",
              "      <th>Parch</th>\n",
              "      <th>Ticket</th>\n",
              "      <th>Fare</th>\n",
              "      <th>Cabin</th>\n",
              "      <th>Embarked</th>\n",
              "    </tr>\n",
              "  </thead>\n",
              "  <tbody>\n",
              "    <tr>\n",
              "      <th>0</th>\n",
              "      <td>1</td>\n",
              "      <td>0</td>\n",
              "      <td>3</td>\n",
              "      <td>Mr.</td>\n",
              "      <td>Braund, Mr. Owen Harris</td>\n",
              "      <td>male</td>\n",
              "      <td>22.0</td>\n",
              "      <td>1</td>\n",
              "      <td>0</td>\n",
              "      <td>A/5 21171</td>\n",
              "      <td>7.2500</td>\n",
              "      <td>NaN</td>\n",
              "      <td>S</td>\n",
              "    </tr>\n",
              "    <tr>\n",
              "      <th>1</th>\n",
              "      <td>2</td>\n",
              "      <td>1</td>\n",
              "      <td>1</td>\n",
              "      <td>Mrs.</td>\n",
              "      <td>Cumings, Mrs. John Bradley (Florence Briggs Th...</td>\n",
              "      <td>female</td>\n",
              "      <td>38.0</td>\n",
              "      <td>1</td>\n",
              "      <td>0</td>\n",
              "      <td>PC 17599</td>\n",
              "      <td>71.2833</td>\n",
              "      <td>C85</td>\n",
              "      <td>C</td>\n",
              "    </tr>\n",
              "    <tr>\n",
              "      <th>2</th>\n",
              "      <td>3</td>\n",
              "      <td>1</td>\n",
              "      <td>3</td>\n",
              "      <td>Miss.</td>\n",
              "      <td>Heikkinen, Miss. Laina</td>\n",
              "      <td>female</td>\n",
              "      <td>26.0</td>\n",
              "      <td>0</td>\n",
              "      <td>0</td>\n",
              "      <td>STON/O2. 3101282</td>\n",
              "      <td>7.9250</td>\n",
              "      <td>NaN</td>\n",
              "      <td>S</td>\n",
              "    </tr>\n",
              "    <tr>\n",
              "      <th>3</th>\n",
              "      <td>4</td>\n",
              "      <td>1</td>\n",
              "      <td>1</td>\n",
              "      <td>Mrs.</td>\n",
              "      <td>Futrelle, Mrs. Jacques Heath (Lily May Peel)</td>\n",
              "      <td>female</td>\n",
              "      <td>35.0</td>\n",
              "      <td>1</td>\n",
              "      <td>0</td>\n",
              "      <td>113803</td>\n",
              "      <td>53.1000</td>\n",
              "      <td>C123</td>\n",
              "      <td>S</td>\n",
              "    </tr>\n",
              "    <tr>\n",
              "      <th>4</th>\n",
              "      <td>5</td>\n",
              "      <td>0</td>\n",
              "      <td>3</td>\n",
              "      <td>Mr.</td>\n",
              "      <td>Allen, Mr. William Henry</td>\n",
              "      <td>male</td>\n",
              "      <td>35.0</td>\n",
              "      <td>0</td>\n",
              "      <td>0</td>\n",
              "      <td>373450</td>\n",
              "      <td>8.0500</td>\n",
              "      <td>NaN</td>\n",
              "      <td>S</td>\n",
              "    </tr>\n",
              "  </tbody>\n",
              "</table>\n",
              "</div>\n",
              "      <button class=\"colab-df-convert\" onclick=\"convertToInteractive('df-36bc6995-5f84-483e-9003-35f371041fe0')\"\n",
              "              title=\"Convert this dataframe to an interactive table.\"\n",
              "              style=\"display:none;\">\n",
              "        \n",
              "  <svg xmlns=\"http://www.w3.org/2000/svg\" height=\"24px\"viewBox=\"0 0 24 24\"\n",
              "       width=\"24px\">\n",
              "    <path d=\"M0 0h24v24H0V0z\" fill=\"none\"/>\n",
              "    <path d=\"M18.56 5.44l.94 2.06.94-2.06 2.06-.94-2.06-.94-.94-2.06-.94 2.06-2.06.94zm-11 1L8.5 8.5l.94-2.06 2.06-.94-2.06-.94L8.5 2.5l-.94 2.06-2.06.94zm10 10l.94 2.06.94-2.06 2.06-.94-2.06-.94-.94-2.06-.94 2.06-2.06.94z\"/><path d=\"M17.41 7.96l-1.37-1.37c-.4-.4-.92-.59-1.43-.59-.52 0-1.04.2-1.43.59L10.3 9.45l-7.72 7.72c-.78.78-.78 2.05 0 2.83L4 21.41c.39.39.9.59 1.41.59.51 0 1.02-.2 1.41-.59l7.78-7.78 2.81-2.81c.8-.78.8-2.07 0-2.86zM5.41 20L4 18.59l7.72-7.72 1.47 1.35L5.41 20z\"/>\n",
              "  </svg>\n",
              "      </button>\n",
              "      \n",
              "  <style>\n",
              "    .colab-df-container {\n",
              "      display:flex;\n",
              "      flex-wrap:wrap;\n",
              "      gap: 12px;\n",
              "    }\n",
              "\n",
              "    .colab-df-convert {\n",
              "      background-color: #E8F0FE;\n",
              "      border: none;\n",
              "      border-radius: 50%;\n",
              "      cursor: pointer;\n",
              "      display: none;\n",
              "      fill: #1967D2;\n",
              "      height: 32px;\n",
              "      padding: 0 0 0 0;\n",
              "      width: 32px;\n",
              "    }\n",
              "\n",
              "    .colab-df-convert:hover {\n",
              "      background-color: #E2EBFA;\n",
              "      box-shadow: 0px 1px 2px rgba(60, 64, 67, 0.3), 0px 1px 3px 1px rgba(60, 64, 67, 0.15);\n",
              "      fill: #174EA6;\n",
              "    }\n",
              "\n",
              "    [theme=dark] .colab-df-convert {\n",
              "      background-color: #3B4455;\n",
              "      fill: #D2E3FC;\n",
              "    }\n",
              "\n",
              "    [theme=dark] .colab-df-convert:hover {\n",
              "      background-color: #434B5C;\n",
              "      box-shadow: 0px 1px 3px 1px rgba(0, 0, 0, 0.15);\n",
              "      filter: drop-shadow(0px 1px 2px rgba(0, 0, 0, 0.3));\n",
              "      fill: #FFFFFF;\n",
              "    }\n",
              "  </style>\n",
              "\n",
              "      <script>\n",
              "        const buttonEl =\n",
              "          document.querySelector('#df-36bc6995-5f84-483e-9003-35f371041fe0 button.colab-df-convert');\n",
              "        buttonEl.style.display =\n",
              "          google.colab.kernel.accessAllowed ? 'block' : 'none';\n",
              "\n",
              "        async function convertToInteractive(key) {\n",
              "          const element = document.querySelector('#df-36bc6995-5f84-483e-9003-35f371041fe0');\n",
              "          const dataTable =\n",
              "            await google.colab.kernel.invokeFunction('convertToInteractive',\n",
              "                                                     [key], {});\n",
              "          if (!dataTable) return;\n",
              "\n",
              "          const docLinkHtml = 'Like what you see? Visit the ' +\n",
              "            '<a target=\"_blank\" href=https://colab.research.google.com/notebooks/data_table.ipynb>data table notebook</a>'\n",
              "            + ' to learn more about interactive tables.';\n",
              "          element.innerHTML = '';\n",
              "          dataTable['output_type'] = 'display_data';\n",
              "          await google.colab.output.renderOutput(dataTable, element);\n",
              "          const docLink = document.createElement('div');\n",
              "          docLink.innerHTML = docLinkHtml;\n",
              "          element.appendChild(docLink);\n",
              "        }\n",
              "      </script>\n",
              "    </div>\n",
              "  </div>\n",
              "  "
            ]
          },
          "metadata": {},
          "execution_count": 9
        }
      ],
      "source": [
        "# Load the training and test DataFrames\n",
        "train = pd.read_csv('Titanic1.Training.Dataset.csv?raw=true')\n",
        "\n",
        "test = pd.read_csv('test3_Titanic_Dataset_Students.csv?raw=true')\n",
        "train.head(5)\n",
        "#test.head(5)\n",
        "#np.shape(train)\n",
        "#np.shape(test)"
      ]
    },
    {
      "cell_type": "code",
      "source": [
        "#Create a matrix to save the PassergerId and Name\n",
        "\n",
        "# Create a matrix of the passengerId and name elements\n",
        "saved_test_data = test[['PassengerId', 'Name']]\n",
        "\n",
        "# Save the matrix to a file\n",
        "saved_test_data.to_csv('saved.test.data', index=False)\n",
        "\n",
        "#test.info()\n",
        "#saved_test_data.info()\n",
        "saved_test_data.loc[0:20]\n",
        "#test.loc[0:20]"
      ],
      "metadata": {
        "colab": {
          "base_uri": "https://localhost:8080/",
          "height": 707
        },
        "id": "78RjMsnlTjjY",
        "outputId": "80263344-2176-468c-a418-df4b05aec66c"
      },
      "execution_count": null,
      "outputs": [
        {
          "output_type": "execute_result",
          "data": {
            "text/plain": [
              "    PassengerId                    Name\n",
              "0           892        Becker, Mr. Reid\n",
              "1           893      Name2, Miss. Name2\n",
              "2           894       Name3, Maj. Name3\n",
              "3           895       Name4, Mrs. Name4\n",
              "4           896    Name5, Master. Name5\n",
              "5           897      Name6, Miss. Name6\n",
              "6           898      Name7, Miss. Name7\n",
              "7           899  Name8, Jonkheer. Name8\n",
              "8           900    Name9, Master. Name9\n",
              "9           901    Name10, Miss. Name10\n",
              "10          902  Name11, Master. Name11\n",
              "11          903     Name12, Mrs. Name12\n",
              "12          904    Name13, Miss. Name13\n",
              "13          905      Name14, Mr. Name14\n",
              "14          906     Name15, Mrs. Name15\n",
              "15          907  Name16, Master. Name16\n",
              "16          908      Name17, Mr. Name17\n",
              "17          909    Name18, Miss. Name18\n",
              "18          910      Name19, Mr. Name19\n",
              "19          911     Name20, Mrs. Name20\n",
              "20          912    Name21, Miss. Name21"
            ],
            "text/html": [
              "\n",
              "  <div id=\"df-d9ab6a03-209c-4927-8f62-47edd4dcd119\">\n",
              "    <div class=\"colab-df-container\">\n",
              "      <div>\n",
              "<style scoped>\n",
              "    .dataframe tbody tr th:only-of-type {\n",
              "        vertical-align: middle;\n",
              "    }\n",
              "\n",
              "    .dataframe tbody tr th {\n",
              "        vertical-align: top;\n",
              "    }\n",
              "\n",
              "    .dataframe thead th {\n",
              "        text-align: right;\n",
              "    }\n",
              "</style>\n",
              "<table border=\"1\" class=\"dataframe\">\n",
              "  <thead>\n",
              "    <tr style=\"text-align: right;\">\n",
              "      <th></th>\n",
              "      <th>PassengerId</th>\n",
              "      <th>Name</th>\n",
              "    </tr>\n",
              "  </thead>\n",
              "  <tbody>\n",
              "    <tr>\n",
              "      <th>0</th>\n",
              "      <td>892</td>\n",
              "      <td>Becker, Mr. Reid</td>\n",
              "    </tr>\n",
              "    <tr>\n",
              "      <th>1</th>\n",
              "      <td>893</td>\n",
              "      <td>Name2, Miss. Name2</td>\n",
              "    </tr>\n",
              "    <tr>\n",
              "      <th>2</th>\n",
              "      <td>894</td>\n",
              "      <td>Name3, Maj. Name3</td>\n",
              "    </tr>\n",
              "    <tr>\n",
              "      <th>3</th>\n",
              "      <td>895</td>\n",
              "      <td>Name4, Mrs. Name4</td>\n",
              "    </tr>\n",
              "    <tr>\n",
              "      <th>4</th>\n",
              "      <td>896</td>\n",
              "      <td>Name5, Master. Name5</td>\n",
              "    </tr>\n",
              "    <tr>\n",
              "      <th>5</th>\n",
              "      <td>897</td>\n",
              "      <td>Name6, Miss. Name6</td>\n",
              "    </tr>\n",
              "    <tr>\n",
              "      <th>6</th>\n",
              "      <td>898</td>\n",
              "      <td>Name7, Miss. Name7</td>\n",
              "    </tr>\n",
              "    <tr>\n",
              "      <th>7</th>\n",
              "      <td>899</td>\n",
              "      <td>Name8, Jonkheer. Name8</td>\n",
              "    </tr>\n",
              "    <tr>\n",
              "      <th>8</th>\n",
              "      <td>900</td>\n",
              "      <td>Name9, Master. Name9</td>\n",
              "    </tr>\n",
              "    <tr>\n",
              "      <th>9</th>\n",
              "      <td>901</td>\n",
              "      <td>Name10, Miss. Name10</td>\n",
              "    </tr>\n",
              "    <tr>\n",
              "      <th>10</th>\n",
              "      <td>902</td>\n",
              "      <td>Name11, Master. Name11</td>\n",
              "    </tr>\n",
              "    <tr>\n",
              "      <th>11</th>\n",
              "      <td>903</td>\n",
              "      <td>Name12, Mrs. Name12</td>\n",
              "    </tr>\n",
              "    <tr>\n",
              "      <th>12</th>\n",
              "      <td>904</td>\n",
              "      <td>Name13, Miss. Name13</td>\n",
              "    </tr>\n",
              "    <tr>\n",
              "      <th>13</th>\n",
              "      <td>905</td>\n",
              "      <td>Name14, Mr. Name14</td>\n",
              "    </tr>\n",
              "    <tr>\n",
              "      <th>14</th>\n",
              "      <td>906</td>\n",
              "      <td>Name15, Mrs. Name15</td>\n",
              "    </tr>\n",
              "    <tr>\n",
              "      <th>15</th>\n",
              "      <td>907</td>\n",
              "      <td>Name16, Master. Name16</td>\n",
              "    </tr>\n",
              "    <tr>\n",
              "      <th>16</th>\n",
              "      <td>908</td>\n",
              "      <td>Name17, Mr. Name17</td>\n",
              "    </tr>\n",
              "    <tr>\n",
              "      <th>17</th>\n",
              "      <td>909</td>\n",
              "      <td>Name18, Miss. Name18</td>\n",
              "    </tr>\n",
              "    <tr>\n",
              "      <th>18</th>\n",
              "      <td>910</td>\n",
              "      <td>Name19, Mr. Name19</td>\n",
              "    </tr>\n",
              "    <tr>\n",
              "      <th>19</th>\n",
              "      <td>911</td>\n",
              "      <td>Name20, Mrs. Name20</td>\n",
              "    </tr>\n",
              "    <tr>\n",
              "      <th>20</th>\n",
              "      <td>912</td>\n",
              "      <td>Name21, Miss. Name21</td>\n",
              "    </tr>\n",
              "  </tbody>\n",
              "</table>\n",
              "</div>\n",
              "      <button class=\"colab-df-convert\" onclick=\"convertToInteractive('df-d9ab6a03-209c-4927-8f62-47edd4dcd119')\"\n",
              "              title=\"Convert this dataframe to an interactive table.\"\n",
              "              style=\"display:none;\">\n",
              "        \n",
              "  <svg xmlns=\"http://www.w3.org/2000/svg\" height=\"24px\"viewBox=\"0 0 24 24\"\n",
              "       width=\"24px\">\n",
              "    <path d=\"M0 0h24v24H0V0z\" fill=\"none\"/>\n",
              "    <path d=\"M18.56 5.44l.94 2.06.94-2.06 2.06-.94-2.06-.94-.94-2.06-.94 2.06-2.06.94zm-11 1L8.5 8.5l.94-2.06 2.06-.94-2.06-.94L8.5 2.5l-.94 2.06-2.06.94zm10 10l.94 2.06.94-2.06 2.06-.94-2.06-.94-.94-2.06-.94 2.06-2.06.94z\"/><path d=\"M17.41 7.96l-1.37-1.37c-.4-.4-.92-.59-1.43-.59-.52 0-1.04.2-1.43.59L10.3 9.45l-7.72 7.72c-.78.78-.78 2.05 0 2.83L4 21.41c.39.39.9.59 1.41.59.51 0 1.02-.2 1.41-.59l7.78-7.78 2.81-2.81c.8-.78.8-2.07 0-2.86zM5.41 20L4 18.59l7.72-7.72 1.47 1.35L5.41 20z\"/>\n",
              "  </svg>\n",
              "      </button>\n",
              "      \n",
              "  <style>\n",
              "    .colab-df-container {\n",
              "      display:flex;\n",
              "      flex-wrap:wrap;\n",
              "      gap: 12px;\n",
              "    }\n",
              "\n",
              "    .colab-df-convert {\n",
              "      background-color: #E8F0FE;\n",
              "      border: none;\n",
              "      border-radius: 50%;\n",
              "      cursor: pointer;\n",
              "      display: none;\n",
              "      fill: #1967D2;\n",
              "      height: 32px;\n",
              "      padding: 0 0 0 0;\n",
              "      width: 32px;\n",
              "    }\n",
              "\n",
              "    .colab-df-convert:hover {\n",
              "      background-color: #E2EBFA;\n",
              "      box-shadow: 0px 1px 2px rgba(60, 64, 67, 0.3), 0px 1px 3px 1px rgba(60, 64, 67, 0.15);\n",
              "      fill: #174EA6;\n",
              "    }\n",
              "\n",
              "    [theme=dark] .colab-df-convert {\n",
              "      background-color: #3B4455;\n",
              "      fill: #D2E3FC;\n",
              "    }\n",
              "\n",
              "    [theme=dark] .colab-df-convert:hover {\n",
              "      background-color: #434B5C;\n",
              "      box-shadow: 0px 1px 3px 1px rgba(0, 0, 0, 0.15);\n",
              "      filter: drop-shadow(0px 1px 2px rgba(0, 0, 0, 0.3));\n",
              "      fill: #FFFFFF;\n",
              "    }\n",
              "  </style>\n",
              "\n",
              "      <script>\n",
              "        const buttonEl =\n",
              "          document.querySelector('#df-d9ab6a03-209c-4927-8f62-47edd4dcd119 button.colab-df-convert');\n",
              "        buttonEl.style.display =\n",
              "          google.colab.kernel.accessAllowed ? 'block' : 'none';\n",
              "\n",
              "        async function convertToInteractive(key) {\n",
              "          const element = document.querySelector('#df-d9ab6a03-209c-4927-8f62-47edd4dcd119');\n",
              "          const dataTable =\n",
              "            await google.colab.kernel.invokeFunction('convertToInteractive',\n",
              "                                                     [key], {});\n",
              "          if (!dataTable) return;\n",
              "\n",
              "          const docLinkHtml = 'Like what you see? Visit the ' +\n",
              "            '<a target=\"_blank\" href=https://colab.research.google.com/notebooks/data_table.ipynb>data table notebook</a>'\n",
              "            + ' to learn more about interactive tables.';\n",
              "          element.innerHTML = '';\n",
              "          dataTable['output_type'] = 'display_data';\n",
              "          await google.colab.output.renderOutput(dataTable, element);\n",
              "          const docLink = document.createElement('div');\n",
              "          docLink.innerHTML = docLinkHtml;\n",
              "          element.appendChild(docLink);\n",
              "        }\n",
              "      </script>\n",
              "    </div>\n",
              "  </div>\n",
              "  "
            ]
          },
          "metadata": {},
          "execution_count": 10
        }
      ]
    },
    {
      "cell_type": "markdown",
      "metadata": {
        "id": "T8feYeN854mv"
      },
      "source": [
        "# Exploratory Data Analysis"
      ]
    },
    {
      "cell_type": "code",
      "execution_count": null,
      "metadata": {
        "id": "DoKh3T4Y8pw3"
      },
      "outputs": [],
      "source": [
        "#Let's look at the size and shape of the test DataFram df\n",
        "#train.shape\n",
        "#test.shape"
      ]
    },
    {
      "cell_type": "code",
      "execution_count": null,
      "metadata": {
        "colab": {
          "base_uri": "https://localhost:8080/"
        },
        "id": "Thonqbex1W9s",
        "outputId": "83d99dfa-f932-45f2-b2ab-5ed67185761c"
      },
      "outputs": [
        {
          "output_type": "stream",
          "name": "stdout",
          "text": [
            "<class 'pandas.core.frame.DataFrame'>\n",
            "RangeIndex: 891 entries, 0 to 890\n",
            "Data columns (total 13 columns):\n",
            " #   Column       Non-Null Count  Dtype  \n",
            "---  ------       --------------  -----  \n",
            " 0   PassengerId  891 non-null    int64  \n",
            " 1   Survived     891 non-null    int64  \n",
            " 2   Pclass       891 non-null    int64  \n",
            " 3   Name_Title   891 non-null    object \n",
            " 4   Name         891 non-null    object \n",
            " 5   Sex          891 non-null    object \n",
            " 6   Age          891 non-null    float64\n",
            " 7   SibSp        891 non-null    int64  \n",
            " 8   Parch        891 non-null    int64  \n",
            " 9   Ticket       891 non-null    object \n",
            " 10  Fare         891 non-null    float64\n",
            " 11  Cabin        204 non-null    object \n",
            " 12  Embarked     891 non-null    object \n",
            "dtypes: float64(2), int64(5), object(6)\n",
            "memory usage: 90.6+ KB\n",
            "This is a line.\n",
            "\n",
            "This is another line.\n",
            "<class 'pandas.core.frame.DataFrame'>\n",
            "RangeIndex: 21 entries, 0 to 20\n",
            "Data columns (total 11 columns):\n",
            " #   Column       Non-Null Count  Dtype  \n",
            "---  ------       --------------  -----  \n",
            " 0   PassengerId  21 non-null     int64  \n",
            " 1   Pclass       21 non-null     int64  \n",
            " 2   Name         21 non-null     object \n",
            " 3   Sex          21 non-null     object \n",
            " 4   Age          21 non-null     float64\n",
            " 5   SibSp        21 non-null     int64  \n",
            " 6   Parch        21 non-null     int64  \n",
            " 7   Ticket       21 non-null     object \n",
            " 8   Fare         21 non-null     float64\n",
            " 9   Cabin        21 non-null     object \n",
            " 10  Embarked     21 non-null     object \n",
            "dtypes: float64(2), int64(4), object(5)\n",
            "memory usage: 1.9+ KB\n"
          ]
        }
      ],
      "source": [
        "#To get more information on the dataset, use the info() function.\n",
        "#To see both on the same screen, print a few lines between them.\n",
        "#Due to the lack of time, we will not perform Data Exploration.\n",
        "#We must ensure there are NO NULL records in \"train\" or \"test.\"\n",
        "train.info()\n",
        "print(\"This is a line.\\n\\nThis is another line.\")\n",
        "test.info()"
      ]
    },
    {
      "cell_type": "markdown",
      "metadata": {
        "id": "8ayi6wni6Le_"
      },
      "source": [
        "**Information**\n",
        "\n",
        "The definition of each code is as follows:\n",
        " Survival - Survival (0 = No; 1 = Yes)\n",
        " Class - Passenger Class (1 = 1st; 2 = 2nd; 3 = 3rd)\n",
        " Name - Name\n",
        " Sex - Sex\n",
        " Age - Age\n",
        " Sibsp - Number of Siblings/Spouses Aboard\n",
        " Parch - Number of Parents/Children Aboard\n",
        " Ticket - Ticket Number\n",
        " Fare - Passenger Fare\n",
        " Cabin - Cabin number\n",
        " Embarked - Port of Embarkation (C = Cherbourg; Q = Queenstown; S = Southampton)\n",
        " Boat - Lifeboat (if survived)\n",
        " Body - Body number (if did not survive and body was recovered)"
      ]
    },
    {
      "cell_type": "code",
      "execution_count": null,
      "metadata": {
        "id": "3bZJz3kr1W9t"
      },
      "outputs": [],
      "source": [
        "#train.isna().sum() #Display the number of null values in each column of the \"train\" dataset.\n",
        "#test.isna().sum() #Display the number of null values in each column of the \"test\" dataset,"
      ]
    },
    {
      "cell_type": "code",
      "execution_count": null,
      "metadata": {
        "id": "Y__gbWdMA_bV"
      },
      "outputs": [],
      "source": [
        "#The code from numpy.ma.core import masked_less imports the masked_less function from the numpy.ma.core module. \n",
        "#The masked_less function is used to mask an array where the values are less than a given value. \n",
        "#The function takes two arguments: the array to be masked and the value to compare the array values to. \n",
        "#The function returns a masked array, where the values that are less than the given value are masked (i.e., they are set to NaN).\n",
        "from numpy.ma.core import masked_less\n"
      ]
    },
    {
      "cell_type": "markdown",
      "metadata": {
        "id": "rB2sOw1GxO3p"
      },
      "source": [
        "Visualization of Datasets"
      ]
    },
    {
      "cell_type": "code",
      "execution_count": null,
      "metadata": {
        "id": "XMu1fWiK1W9w"
      },
      "outputs": [],
      "source": [
        "# Create a histogram of the relevant dataset elements.  Examine it for possible trends or abnormalities.\n",
        "#g = sns.histplot(train['Age'], color = 'blue')"
      ]
    },
    {
      "cell_type": "code",
      "execution_count": null,
      "metadata": {
        "id": "q9t2_xfz5Tot"
      },
      "outputs": [],
      "source": [
        "# Analyze survival rate by clsss \n",
        "#train['Survived'].groupby(train['Pclass']).mean()"
      ]
    },
    {
      "cell_type": "code",
      "execution_count": null,
      "metadata": {
        "id": "s7Yd8YLU1W9x"
      },
      "outputs": [],
      "source": [
        "# Numerical analysis of elements in the dataset\n",
        "#from pydoc import describe\n",
        "#train['Age'].describe()"
      ]
    },
    {
      "cell_type": "code",
      "execution_count": null,
      "metadata": {
        "id": "ktmTHHClSrd8"
      },
      "outputs": [],
      "source": [
        "#train.hist(bins=10,figsize=(15,12),grid=False);"
      ]
    },
    {
      "cell_type": "code",
      "execution_count": null,
      "metadata": {
        "id": "BmQTZRDmtY1U"
      },
      "outputs": [],
      "source": [
        "# Generic Scatter Plot: Enter the dataset features you want to compare. Scatter plots are sometimes useful, not in this case. \n",
        "#plt.scatter(train[''], train[''], color= \"Red\", label= \"\" )\n",
        "#plt.ylabel(\"\")\n",
        "#plt.xlabel(\"\")\n",
        "#plt.title(\"\")\n",
        "#plt.legend()\n",
        "#plt.show()\n"
      ]
    },
    {
      "cell_type": "code",
      "execution_count": null,
      "metadata": {
        "id": "wXIDJxy61W9x"
      },
      "outputs": [],
      "source": [
        "# Heat Map\n",
        "#List all column names\n",
        "#print(train.columns)"
      ]
    },
    {
      "cell_type": "code",
      "execution_count": null,
      "metadata": {
        "colab": {
          "base_uri": "https://localhost:8080/"
        },
        "id": "5eOz7ie91W90",
        "outputId": "ad821a33-d3e2-4918-995e-14ce01d6f0ab"
      },
      "outputs": [
        {
          "output_type": "stream",
          "name": "stdout",
          "text": [
            "             PassengerId  Survived  Pclass   Age  SibSp  Parch  Fare\n",
            "PassengerId         1.00     -0.01   -0.04  0.04  -0.06  -0.00  0.02\n",
            "Survived           -0.01      1.00   -0.34 -0.09  -0.04   0.08  0.25\n",
            "Pclass             -0.04     -0.34    1.00 -0.36   0.08   0.02 -0.56\n",
            "Age                 0.04     -0.09   -0.36  1.00  -0.29  -0.19  0.11\n",
            "SibSp              -0.06     -0.04    0.08 -0.29   1.00   0.41  0.16\n",
            "Parch              -0.00      0.08    0.02 -0.19   0.41   1.00  0.21\n",
            "Fare                0.02      0.25   -0.56  0.11   0.16   0.21  1.00\n"
          ]
        },
        {
          "output_type": "stream",
          "name": "stderr",
          "text": [
            "<ipython-input-14-1435d7e01add>:2: FutureWarning: The default value of numeric_only in DataFrame.corr is deprecated. In a future version, it will default to False. Select only valid columns or specify the value of numeric_only to silence this warning.\n",
            "  corr_matrix=train.corr().round(2)\n"
          ]
        }
      ],
      "source": [
        "#Calculating correlation between each pair of variables, notice the variables that have the highest correlation with \"Survived.\"\n",
        "corr_matrix=train.corr().round(2)\n",
        "print(corr_matrix)"
      ]
    },
    {
      "cell_type": "code",
      "execution_count": null,
      "metadata": {
        "colab": {
          "base_uri": "https://localhost:8080/",
          "height": 522
        },
        "id": "pLF6sQke-9gE",
        "outputId": "3f976391-68e7-4593-e977-e682415775ae"
      },
      "outputs": [
        {
          "output_type": "execute_result",
          "data": {
            "text/plain": [
              "<Axes: >"
            ]
          },
          "metadata": {},
          "execution_count": 15
        },
        {
          "output_type": "display_data",
          "data": {
            "text/plain": [
              "<Figure size 640x480 with 2 Axes>"
            ],
            "image/png": "[encoded data removed]"
          },
          "metadata": {}
        }
      ],
      "source": [
        "#Creating a seaborn heatmap. You can visualize these intercorrelations with a Heat Map.\n",
        "sns.heatmap(corr_matrix)"
      ]
    },
    {
      "cell_type": "markdown",
      "metadata": {
        "id": "_dlsx2L8n4BL"
      },
      "source": [
        "**Feature Engineering**\n",
        "Having done our cursory exploration of the variables, we now have a pretty good idea of how we want to transform our variables in preparation for our final dataset. We will perform our feature engineering through a series of helper functions that each serve a specific purpose.\n",
        "This first function creates two separate columns: a numeric column indicating the length of a passenger’s Name field, and a categorical column that extracts the passenger’s title. We are altering the data to be used by the Random Forest algorithm.\n",
        "\n",
        "**Run all the functions to avoid an error later in the analysis.\n",
        "\n",
        "**Notice you must make the same changes to the test and training datasets\n"
      ]
    },
    {
      "cell_type": "code",
      "execution_count": null,
      "metadata": {
        "id": "-VZhl-_GoEvn"
      },
      "outputs": [],
      "source": [
        "def names(train, test):\n",
        "    for i in [train, test]:\n",
        "        i['Name_Len'] = i['Name'].apply(lambda x: len(x))\n",
        "        i['Name_Title'] = i['Name'].apply(lambda x: x.split(',')[1]).apply(lambda x: x.split()[0])\n",
        "        del i['Name']\n",
        "    return train, test\n"
      ]
    },
    {
      "cell_type": "code",
      "execution_count": null,
      "metadata": {
        "id": "CAbqUzMHofVC"
      },
      "outputs": [],
      "source": [
        "# Next, we impute the null values of the Age column by filling in the mean value of the passenger’s corresponding title and class. \n",
        "# This more granular approach to imputation should be more accurate than merely taking the mean age of the population.\n",
        "def age_impute(train, test):\n",
        "    for i in [train, test]:\n",
        "        i['Age_Null_Flag'] = i['Age'].apply(lambda x: 1 if pd.isnull(x) else 0)\n",
        "    train['mean'] = train.groupby(['Name_Title', 'Pclass'])['Age'].transform('mean')\n",
        "    train['Age'] = train['Age'].fillna(train['mean'])\n",
        "    z = test.merge(train, on=['Name_Title', 'Pclass'], how='left').drop_duplicates(['PassengerId_x'])\n",
        "    test['Age'] = np.where(test['Age'].isnull(), z['mean'], test['Age'])\n",
        "    test['Age'] = test['Age'].fillna(test['Age'].mean())\n",
        "    del train['mean']\n",
        "    return train, test\n",
        "    \n"
      ]
    },
    {
      "cell_type": "code",
      "execution_count": null,
      "metadata": {
        "id": "BZogfwoYo2d0"
      },
      "outputs": [],
      "source": [
        "# We combine the SibSp and Parch columns into a new variable that indicates family size, and group the family size \n",
        "#  variable into three categories.\n",
        "def fam_size(train, test):\n",
        "    for i in [train, test]:\n",
        "        i['Fam_Size'] = np.where((i['SibSp']+i['Parch']) == 0 , 'Solo',\n",
        "                           np.where((i['SibSp']+i['Parch']) <= 3,'Nuclear', 'Big'))\n",
        "        del i['SibSp']\n",
        "        del i['Parch']\n",
        "    return train, test\n"
      ]
    },
    {
      "cell_type": "code",
      "execution_count": null,
      "metadata": {
        "id": "RkLGihBrpLSm"
      },
      "outputs": [],
      "source": [
        "# The Ticket column is used to create Ticket_Len, which indicates the length of the Ticket field.\n",
        "def ticket_grouped(train, test):\n",
        "    for i in [train, test]:\n",
        "        i['Ticket_Len'] = i['Ticket'].apply(lambda x: len(x))\n",
        "        del i['Ticket']\n",
        "    return train, test\n"
      ]
    },
    {
      "cell_type": "code",
      "execution_count": null,
      "metadata": {
        "id": "epQzU5hMpam2"
      },
      "outputs": [],
      "source": [
        "# The following two functions extract the first letter of the Cabin column and its number, respectively.\n",
        "def cabin(train, test):\n",
        "    for i in [train, test]:\n",
        "        i['Cabin_Letter'] = i['Cabin'].apply(lambda x: str(x)[0])\n",
        "        del i['Cabin']\n",
        "    return train, test\n",
        "\n",
        "\n",
        "\n",
        "def cabin_num(train, test):\n",
        "    for i in [train, test]:\n",
        "        i['Cabin_num1'] = i['Cabin'].apply(lambda x: str(x).split(' ')[-1][1:])\n",
        "        i['Cabin_num1'].replace('an', np.NaN, inplace = True)\n",
        "        i['Cabin_num1'] = i['Cabin_num1'].apply(lambda x: int(x) if not pd.isnull(x) and x != '' else np.NaN)\n",
        "        i['Cabin_num'] = pd.qcut(train['Cabin_num1'],3)\n",
        "    train = pd.concat((train, pd.get_dummies(train['Cabin_num'], prefix = 'Cabin_num')), axis = 1)\n",
        "    test = pd.concat((test, pd.get_dummies(test['Cabin_num'], prefix = 'Cabin_num')), axis = 1)\n",
        "    del train['Cabin_num']\n",
        "    del test['Cabin_num']\n",
        "    del train['Cabin_num1']\n",
        "    del test['Cabin_num1']\n",
        "    return train, test\n"
      ]
    },
    {
      "cell_type": "code",
      "execution_count": null,
      "metadata": {
        "id": "g9YYP66Uqquy"
      },
      "outputs": [],
      "source": [
        "# We fill the null values in the Embarked column with the most commonly occuring value, which is ‘S.’\n",
        "def embarked_impute(train, test):\n",
        "    for i in [train, test]:\n",
        "        i['Embarked'] = i['Embarked'].fillna('S')\n",
        "    return train, test\n"
      ]
    },
    {
      "cell_type": "code",
      "execution_count": null,
      "metadata": {
        "id": "R2zhxMcwrGCD"
      },
      "outputs": [],
      "source": [
        "# We also fill in the one missing value of Fare in our test set with the mean value of Fare from the training \n",
        "#  set (transformations of test set data must always be fit using training data).\n",
        "#test['Fare'].fillna(train['Fare'].mean(), inplace = True)\n"
      ]
    },
    {
      "cell_type": "code",
      "execution_count": null,
      "metadata": {
        "id": "D8yRFNfcreTG"
      },
      "outputs": [],
      "source": [
        "# Next, because we are using scikit-learn, we must convert our categorical columns into dummy variables. \n",
        "#  The following function does this, and then it drops the original categorical columns. It also makes sure that each \n",
        "#  category is present in both the training and test datasets.\n",
        "def dummies(train, test, columns = ['Pclass', 'Sex', 'Embarked', 'Ticket_Lett', 'Cabin_Letter', 'Name_Title', 'Fam_Size']):\n",
        "    for column in columns:\n",
        "        train[column] = train[column].apply(lambda x: str(x))\n",
        "        test[column] = test[column].apply(lambda x: str(x))\n",
        "        good_cols = [column+'_'+i for i in train[column].unique() if i in test[column].unique()]\n",
        "        train = pd.concat((train, pd.get_dummies(train[column], prefix = column)[good_cols]), axis = 1)\n",
        "        test = pd.concat((test, pd.get_dummies(test[column], prefix = column)[good_cols]), axis = 1)\n",
        "        del train[column]\n",
        "        del test[column]\n",
        "    return train, test\n"
      ]
    },
    {
      "cell_type": "code",
      "execution_count": null,
      "metadata": {
        "id": "hd8qFZJyr9eq"
      },
      "outputs": [],
      "source": [
        "# Our last helper function drops any columns that haven’t already been dropped. In our case, we only need to drop \n",
        "#  the PassengerId column, which we have decided is not useful for our problem (by the way, I’ve confirmed this with a separate test). \n",
        "#  Note that dropping the PassengerId column here means that we’ll have to load it later when creating our submission file.\n",
        "def drop(train, test, bye = ['PassengerId']):\n",
        "    for i in [train, test]:\n",
        "        for z in bye:\n",
        "            del i[z]\n",
        "    return train, test"
      ]
    },
    {
      "cell_type": "code",
      "execution_count": null,
      "metadata": {
        "id": "3XBKSFE8s34k"
      },
      "outputs": [],
      "source": [
        "# Having built our helper functions, we can now execute them in order to build our dataset that will be used in the model:\n",
        "\n",
        "train = pd.read_csv('Titanic1.Training.Dataset.csv?raw=true')\n",
        "\n",
        "train, test = names(train, test)\n",
        "train, test = age_impute(train, test)\n",
        "train, test = cabin_num(train, test)\n",
        "train, test = cabin(train, test)\n",
        "train, test = embarked_impute(train, test)\n",
        "train, test = fam_size(train, test)\n",
        "train['Fare'].fillna(train['Fare'].mean(), inplace = True)\n",
        "test['Fare'].fillna(train['Fare'].mean(), inplace = True)\n",
        "train, test = ticket_grouped(train, test)\n",
        "train, test = dummies(train, test, columns = ['Pclass', 'Sex', 'Embarked', \n",
        "                                              'Cabin_Letter', 'Name_Title', 'Fam_Size'])\n",
        "train, test = drop(train, test)\n"
      ]
    },
    {
      "cell_type": "code",
      "execution_count": null,
      "metadata": {
        "id": "T9mC69l2vAJJ"
      },
      "outputs": [],
      "source": [
        "# We can see that our final dataset has 28 columns, composed of our target column and 44 predictor variables. \n",
        "#  Although highly dimensional datasets can result in high variance, I think we should be fine here.\n",
        "#len(train.columns)\n",
        "#len(test.columns)\n"
      ]
    },
    {
      "cell_type": "code",
      "source": [
        "#Un-comment and run the functions below to see how the datasets were modified.\n",
        "#train.loc[5:100]\n",
        "#test.loc[0:5]"
      ],
      "metadata": {
        "id": "Xerb4nRuHKdk"
      },
      "execution_count": null,
      "outputs": []
    },
    {
      "cell_type": "markdown",
      "metadata": {
        "id": "X3bA01EHvaH9"
      },
      "source": [
        "**Hyperparameter Tuning**\n",
        "We will use grid search to identify the optimal parameters of our random forest model. Because our training dataset is quite small, we can get away with testing a wider range of hyperparameter values. When I ran this on my 8 GB Windows machine, the process took less than ten minutes.\n"
      ]
    },
    {
      "cell_type": "code",
      "execution_count": null,
      "metadata": {
        "colab": {
          "base_uri": "https://localhost:8080/"
        },
        "id": "4KfP4wQivr9i",
        "outputId": "b6601bad-e7ee-42d2-9d24-06d4bbb9be8f"
      },
      "outputs": [
        {
          "output_type": "stream",
          "name": "stderr",
          "text": [
            "/usr/local/lib/python3.10/dist-packages/sklearn/ensemble/_forest.py:424: FutureWarning: `max_features='auto'` has been deprecated in 1.1 and will be removed in 1.3. To keep the past behaviour, explicitly set `max_features='sqrt'` or remove this parameter as it is also the default value for RandomForestClassifiers and ExtraTreesClassifiers.\n",
            "  warn(\n"
          ]
        }
      ],
      "source": [
        "from sklearn.model_selection import GridSearchCV\n",
        "from sklearn.ensemble import RandomForestClassifier\n",
        "\n",
        "rf = RandomForestClassifier(max_features='auto',\n",
        "                                oob_score=True,\n",
        "                                random_state=1,\n",
        "                                n_jobs=-1)\n",
        "\n",
        "param_grid = { \"criterion\"   : [\"gini\", \"entropy\"],\n",
        "             \"min_samples_leaf\" : [1, 5, 10],\n",
        "             \"min_samples_split\" : [2, 4, 10, 12, 16],\n",
        "             \"n_estimators\": [50, 100, 400, 700, 1000]}\n",
        "\n",
        "gs = GridSearchCV(estimator=rf,\n",
        "                  param_grid=param_grid,\n",
        "                  scoring='accuracy',\n",
        "                  cv=3,\n",
        "                  n_jobs=-1)\n",
        "\n",
        "gs = gs.fit(train.iloc[:, 1:], train.iloc[:, 0])\n"
      ]
    },
    {
      "cell_type": "code",
      "execution_count": null,
      "metadata": {
        "colab": {
          "base_uri": "https://localhost:8080/"
        },
        "id": "xKxVBgZ_yShZ",
        "outputId": "b4c01d11-77a1-4e61-b5b1-6b0a8639f600"
      },
      "outputs": [
        {
          "output_type": "stream",
          "name": "stdout",
          "text": [
            "0.8383838383838383\n",
            "{'criterion': 'entropy', 'min_samples_leaf': 1, 'min_samples_split': 12, 'n_estimators': 400}\n"
          ]
        }
      ],
      "source": [
        "# Looking at the results of the grid search, we can see that our optimal parameter settings are not at the endpoints \n",
        "#  of our provided values, meaning that we do not have to test more values. What else can we say about our optimal values?\n",
        "#  The min_samples_split parameter is at 10, which should help mitigate overfitting to a certain degree. \n",
        "#  This is especially good because we have a relatively large number of estimators (700), which could potentially \n",
        "#  increase our generalization error.\n",
        "print(gs.best_score_)\n",
        "print(gs.best_params_)\n",
        "#print(gs.cv_results_) #To print all the intermediate parameter values\n"
      ]
    },
    {
      "cell_type": "markdown",
      "metadata": {
        "id": "LeJ2qWKkzOSM"
      },
      "source": [
        "**Model Estimation and Evaluation**\n",
        "We are now ready to fit our model using the optimal hyperparameters. The out-of-bag score can give us an unbiased estimate of the model accuracy, and we can see that the score is 82.15%, which is a little higher than our final leaderboard score, indicating that there is some overfitting. This is to be expected due to the fact that our datasets are so small.\n"
      ]
    },
    {
      "cell_type": "code",
      "execution_count": null,
      "metadata": {
        "colab": {
          "base_uri": "https://localhost:8080/"
        },
        "id": "W5lryWe5zXQ3",
        "outputId": "f8c3fb2e-358f-45b9-f1bf-34ff9aff9a70"
      },
      "outputs": [
        {
          "output_type": "stream",
          "name": "stderr",
          "text": [
            "/usr/local/lib/python3.10/dist-packages/sklearn/ensemble/_forest.py:424: FutureWarning: `max_features='auto'` has been deprecated in 1.1 and will be removed in 1.3. To keep the past behaviour, explicitly set `max_features='sqrt'` or remove this parameter as it is also the default value for RandomForestClassifiers and ExtraTreesClassifiers.\n",
            "  warn(\n"
          ]
        },
        {
          "output_type": "stream",
          "name": "stdout",
          "text": [
            "0.8305\n"
          ]
        }
      ],
      "source": [
        "from sklearn.ensemble import RandomForestClassifier\n",
        "\n",
        "rf = RandomForestClassifier(criterion='entropy', \n",
        "                             n_estimators=50,\n",
        "                             min_samples_split=16,\n",
        "                             min_samples_leaf=1,\n",
        "                             max_features='auto',\n",
        "                             oob_score=True,\n",
        "                             random_state=1,\n",
        "                             n_jobs=-1)\n",
        "rf.fit(train.iloc[:, 1:], train.iloc[:, 0])\n",
        "print (\"%.4f\" % rf.oob_score_) \n"
      ]
    },
    {
      "cell_type": "code",
      "execution_count": null,
      "metadata": {
        "colab": {
          "base_uri": "https://localhost:8080/",
          "height": 676
        },
        "id": "vuwCX35yz9f9",
        "outputId": "5d8ab425-8d5c-469a-875b-5b411f0fc20f"
      },
      "outputs": [
        {
          "output_type": "execute_result",
          "data": {
            "text/plain": [
              "                      variable  importance\n",
              "21              Name_Title_Mr.    0.167196\n",
              "1                         Fare    0.126202\n",
              "0                          Age    0.100384\n",
              "12                  Sex_female    0.099201\n",
              "2                     Name_Len    0.089178\n",
              "11                    Sex_male    0.070398\n",
              "8                     Pclass_3    0.053482\n",
              "7                   Ticket_Len    0.049290\n",
              "28                Fam_Size_Big    0.030498\n",
              "23            Name_Title_Miss.    0.025635\n",
              "9                     Pclass_1    0.025480\n",
              "26            Fam_Size_Nuclear    0.018154\n",
              "10                    Pclass_2    0.018034\n",
              "22             Name_Title_Mrs.    0.015935\n",
              "4    Cabin_num_(1.999, 28.667]    0.014066\n",
              "27               Fam_Size_Solo    0.012823\n",
              "13                  Embarked_S    0.012499\n",
              "14                  Embarked_C    0.011377\n",
              "24          Name_Title_Master.    0.010799\n",
              "5   Cabin_num_(28.667, 65.667]    0.010002"
            ],
            "text/html": [
              "\n",
              "  <div id=\"df-65aab38d-c82a-48db-a3a8-702811a6bd57\">\n",
              "    <div class=\"colab-df-container\">\n",
              "      <div>\n",
              "<style scoped>\n",
              "    .dataframe tbody tr th:only-of-type {\n",
              "        vertical-align: middle;\n",
              "    }\n",
              "\n",
              "    .dataframe tbody tr th {\n",
              "        vertical-align: top;\n",
              "    }\n",
              "\n",
              "    .dataframe thead th {\n",
              "        text-align: right;\n",
              "    }\n",
              "</style>\n",
              "<table border=\"1\" class=\"dataframe\">\n",
              "  <thead>\n",
              "    <tr style=\"text-align: right;\">\n",
              "      <th></th>\n",
              "      <th>variable</th>\n",
              "      <th>importance</th>\n",
              "    </tr>\n",
              "  </thead>\n",
              "  <tbody>\n",
              "    <tr>\n",
              "      <th>21</th>\n",
              "      <td>Name_Title_Mr.</td>\n",
              "      <td>0.167196</td>\n",
              "    </tr>\n",
              "    <tr>\n",
              "      <th>1</th>\n",
              "      <td>Fare</td>\n",
              "      <td>0.126202</td>\n",
              "    </tr>\n",
              "    <tr>\n",
              "      <th>0</th>\n",
              "      <td>Age</td>\n",
              "      <td>0.100384</td>\n",
              "    </tr>\n",
              "    <tr>\n",
              "      <th>12</th>\n",
              "      <td>Sex_female</td>\n",
              "      <td>0.099201</td>\n",
              "    </tr>\n",
              "    <tr>\n",
              "      <th>2</th>\n",
              "      <td>Name_Len</td>\n",
              "      <td>0.089178</td>\n",
              "    </tr>\n",
              "    <tr>\n",
              "      <th>11</th>\n",
              "      <td>Sex_male</td>\n",
              "      <td>0.070398</td>\n",
              "    </tr>\n",
              "    <tr>\n",
              "      <th>8</th>\n",
              "      <td>Pclass_3</td>\n",
              "      <td>0.053482</td>\n",
              "    </tr>\n",
              "    <tr>\n",
              "      <th>7</th>\n",
              "      <td>Ticket_Len</td>\n",
              "      <td>0.049290</td>\n",
              "    </tr>\n",
              "    <tr>\n",
              "      <th>28</th>\n",
              "      <td>Fam_Size_Big</td>\n",
              "      <td>0.030498</td>\n",
              "    </tr>\n",
              "    <tr>\n",
              "      <th>23</th>\n",
              "      <td>Name_Title_Miss.</td>\n",
              "      <td>0.025635</td>\n",
              "    </tr>\n",
              "    <tr>\n",
              "      <th>9</th>\n",
              "      <td>Pclass_1</td>\n",
              "      <td>0.025480</td>\n",
              "    </tr>\n",
              "    <tr>\n",
              "      <th>26</th>\n",
              "      <td>Fam_Size_Nuclear</td>\n",
              "      <td>0.018154</td>\n",
              "    </tr>\n",
              "    <tr>\n",
              "      <th>10</th>\n",
              "      <td>Pclass_2</td>\n",
              "      <td>0.018034</td>\n",
              "    </tr>\n",
              "    <tr>\n",
              "      <th>22</th>\n",
              "      <td>Name_Title_Mrs.</td>\n",
              "      <td>0.015935</td>\n",
              "    </tr>\n",
              "    <tr>\n",
              "      <th>4</th>\n",
              "      <td>Cabin_num_(1.999, 28.667]</td>\n",
              "      <td>0.014066</td>\n",
              "    </tr>\n",
              "    <tr>\n",
              "      <th>27</th>\n",
              "      <td>Fam_Size_Solo</td>\n",
              "      <td>0.012823</td>\n",
              "    </tr>\n",
              "    <tr>\n",
              "      <th>13</th>\n",
              "      <td>Embarked_S</td>\n",
              "      <td>0.012499</td>\n",
              "    </tr>\n",
              "    <tr>\n",
              "      <th>14</th>\n",
              "      <td>Embarked_C</td>\n",
              "      <td>0.011377</td>\n",
              "    </tr>\n",
              "    <tr>\n",
              "      <th>24</th>\n",
              "      <td>Name_Title_Master.</td>\n",
              "      <td>0.010799</td>\n",
              "    </tr>\n",
              "    <tr>\n",
              "      <th>5</th>\n",
              "      <td>Cabin_num_(28.667, 65.667]</td>\n",
              "      <td>0.010002</td>\n",
              "    </tr>\n",
              "  </tbody>\n",
              "</table>\n",
              "</div>\n",
              "      <button class=\"colab-df-convert\" onclick=\"convertToInteractive('df-65aab38d-c82a-48db-a3a8-702811a6bd57')\"\n",
              "              title=\"Convert this dataframe to an interactive table.\"\n",
              "              style=\"display:none;\">\n",
              "        \n",
              "  <svg xmlns=\"http://www.w3.org/2000/svg\" height=\"24px\"viewBox=\"0 0 24 24\"\n",
              "       width=\"24px\">\n",
              "    <path d=\"M0 0h24v24H0V0z\" fill=\"none\"/>\n",
              "    <path d=\"M18.56 5.44l.94 2.06.94-2.06 2.06-.94-2.06-.94-.94-2.06-.94 2.06-2.06.94zm-11 1L8.5 8.5l.94-2.06 2.06-.94-2.06-.94L8.5 2.5l-.94 2.06-2.06.94zm10 10l.94 2.06.94-2.06 2.06-.94-2.06-.94-.94-2.06-.94 2.06-2.06.94z\"/><path d=\"M17.41 7.96l-1.37-1.37c-.4-.4-.92-.59-1.43-.59-.52 0-1.04.2-1.43.59L10.3 9.45l-7.72 7.72c-.78.78-.78 2.05 0 2.83L4 21.41c.39.39.9.59 1.41.59.51 0 1.02-.2 1.41-.59l7.78-7.78 2.81-2.81c.8-.78.8-2.07 0-2.86zM5.41 20L4 18.59l7.72-7.72 1.47 1.35L5.41 20z\"/>\n",
              "  </svg>\n",
              "      </button>\n",
              "      \n",
              "  <style>\n",
              "    .colab-df-container {\n",
              "      display:flex;\n",
              "      flex-wrap:wrap;\n",
              "      gap: 12px;\n",
              "    }\n",
              "\n",
              "    .colab-df-convert {\n",
              "      background-color: #E8F0FE;\n",
              "      border: none;\n",
              "      border-radius: 50%;\n",
              "      cursor: pointer;\n",
              "      display: none;\n",
              "      fill: #1967D2;\n",
              "      height: 32px;\n",
              "      padding: 0 0 0 0;\n",
              "      width: 32px;\n",
              "    }\n",
              "\n",
              "    .colab-df-convert:hover {\n",
              "      background-color: #E2EBFA;\n",
              "      box-shadow: 0px 1px 2px rgba(60, 64, 67, 0.3), 0px 1px 3px 1px rgba(60, 64, 67, 0.15);\n",
              "      fill: #174EA6;\n",
              "    }\n",
              "\n",
              "    [theme=dark] .colab-df-convert {\n",
              "      background-color: #3B4455;\n",
              "      fill: #D2E3FC;\n",
              "    }\n",
              "\n",
              "    [theme=dark] .colab-df-convert:hover {\n",
              "      background-color: #434B5C;\n",
              "      box-shadow: 0px 1px 3px 1px rgba(0, 0, 0, 0.15);\n",
              "      filter: drop-shadow(0px 1px 2px rgba(0, 0, 0, 0.3));\n",
              "      fill: #FFFFFF;\n",
              "    }\n",
              "  </style>\n",
              "\n",
              "      <script>\n",
              "        const buttonEl =\n",
              "          document.querySelector('#df-65aab38d-c82a-48db-a3a8-702811a6bd57 button.colab-df-convert');\n",
              "        buttonEl.style.display =\n",
              "          google.colab.kernel.accessAllowed ? 'block' : 'none';\n",
              "\n",
              "        async function convertToInteractive(key) {\n",
              "          const element = document.querySelector('#df-65aab38d-c82a-48db-a3a8-702811a6bd57');\n",
              "          const dataTable =\n",
              "            await google.colab.kernel.invokeFunction('convertToInteractive',\n",
              "                                                     [key], {});\n",
              "          if (!dataTable) return;\n",
              "\n",
              "          const docLinkHtml = 'Like what you see? Visit the ' +\n",
              "            '<a target=\"_blank\" href=https://colab.research.google.com/notebooks/data_table.ipynb>data table notebook</a>'\n",
              "            + ' to learn more about interactive tables.';\n",
              "          element.innerHTML = '';\n",
              "          dataTable['output_type'] = 'display_data';\n",
              "          await google.colab.output.renderOutput(dataTable, element);\n",
              "          const docLink = document.createElement('div');\n",
              "          docLink.innerHTML = docLinkHtml;\n",
              "          element.appendChild(docLink);\n",
              "        }\n",
              "      </script>\n",
              "    </div>\n",
              "  </div>\n",
              "  "
            ]
          },
          "metadata": {},
          "execution_count": 29
        }
      ],
      "source": [
        "# Let’s take a brief look at our variable importance according to our random forest model. We can see that some of the \n",
        "#  original columns we predicted would be important in fact were, including gender, fare, and age. But we also see title, \n",
        "#  name length, and ticket length feature prominently, so we can pat ourselves on the back for creating such useful variables.\n",
        "pd.concat((pd.DataFrame(train.iloc[:, 1:].columns, columns = ['variable']), \n",
        "           pd.DataFrame(rf.feature_importances_, columns = ['importance'])), \n",
        "          axis = 1).sort_values(by='importance', ascending = False)[:20]\n"
      ]
    },
    {
      "cell_type": "code",
      "execution_count": null,
      "metadata": {
        "id": "m497XVtX0eOj"
      },
      "outputs": [],
      "source": [
        "# Our last step is to predict the target variable and display the report, sample(n=21)."
      ]
    },
    {
      "cell_type": "code",
      "execution_count": null,
      "metadata": {
        "id": "KbQK22OW0ulC"
      },
      "outputs": [],
      "source": [
        "#Prediction File Submission (see Kaggle for specifications)\n",
        "\n",
        "predictions = rf.predict(test)\n",
        "predictions = pd.DataFrame(predictions, columns=['Survived'])"
      ]
    },
    {
      "cell_type": "code",
      "execution_count": null,
      "metadata": {
        "id": "7lnRnf1Z36qP",
        "colab": {
          "base_uri": "https://localhost:8080/"
        },
        "outputId": "5dffb949-2486-4f53-bc7a-c83fbabe0fb7"
      },
      "outputs": [
        {
          "output_type": "stream",
          "name": "stdout",
          "text": [
            "<class 'pandas.core.frame.DataFrame'>\n",
            "RangeIndex: 21 entries, 0 to 20\n",
            "Data columns (total 29 columns):\n",
            " #   Column                      Non-Null Count  Dtype  \n",
            "---  ------                      --------------  -----  \n",
            " 0   Age                         21 non-null     float64\n",
            " 1   Fare                        21 non-null     float64\n",
            " 2   Name_Len                    21 non-null     int64  \n",
            " 3   Age_Null_Flag               21 non-null     int64  \n",
            " 4   Cabin_num_(1.999, 28.667]   21 non-null     uint8  \n",
            " 5   Cabin_num_(28.667, 65.667]  21 non-null     uint8  \n",
            " 6   Cabin_num_(65.667, 148.0]   21 non-null     uint8  \n",
            " 7   Ticket_Len                  21 non-null     int64  \n",
            " 8   Pclass_3                    21 non-null     uint8  \n",
            " 9   Pclass_1                    21 non-null     uint8  \n",
            " 10  Pclass_2                    21 non-null     uint8  \n",
            " 11  Sex_male                    21 non-null     uint8  \n",
            " 12  Sex_female                  21 non-null     uint8  \n",
            " 13  Embarked_S                  21 non-null     uint8  \n",
            " 14  Embarked_C                  21 non-null     uint8  \n",
            " 15  Embarked_Q                  21 non-null     uint8  \n",
            " 16  Cabin_Letter_E              21 non-null     uint8  \n",
            " 17  Cabin_Letter_G              21 non-null     uint8  \n",
            " 18  Cabin_Letter_D              21 non-null     uint8  \n",
            " 19  Cabin_Letter_B              21 non-null     uint8  \n",
            " 20  Cabin_Letter_F              21 non-null     uint8  \n",
            " 21  Name_Title_Mr.              21 non-null     uint8  \n",
            " 22  Name_Title_Mrs.             21 non-null     uint8  \n",
            " 23  Name_Title_Miss.            21 non-null     uint8  \n",
            " 24  Name_Title_Master.          21 non-null     uint8  \n",
            " 25  Name_Title_Jonkheer.        21 non-null     uint8  \n",
            " 26  Fam_Size_Nuclear            21 non-null     uint8  \n",
            " 27  Fam_Size_Solo               21 non-null     uint8  \n",
            " 28  Fam_Size_Big                21 non-null     uint8  \n",
            "dtypes: float64(2), int64(3), uint8(24)\n",
            "memory usage: 1.4 KB\n"
          ]
        }
      ],
      "source": [
        "#np.shape(train)\n",
        "#np.shape(predictions)\n",
        "#train.info()\n",
        "#print(\"This is a line.\\n\\nThis is another line.\")\n",
        "test.info()"
      ]
    },
    {
      "cell_type": "code",
      "source": [
        "#This is the raw output of our predictions.\n",
        "np.shape(predictions)"
      ],
      "metadata": {
        "colab": {
          "base_uri": "https://localhost:8080/"
        },
        "id": "ImAUApKw7dz8",
        "outputId": "ebeb9956-47bf-43aa-d539-67823dca502b"
      },
      "execution_count": null,
      "outputs": [
        {
          "output_type": "execute_result",
          "data": {
            "text/plain": [
              "(21, 1)"
            ]
          },
          "metadata": {},
          "execution_count": 33
        }
      ]
    },
    {
      "cell_type": "code",
      "source": [
        "predictions.info()"
      ],
      "metadata": {
        "colab": {
          "base_uri": "https://localhost:8080/"
        },
        "id": "00FcrbOz7-Rl",
        "outputId": "b5d849a9-cf7b-4af2-8d7f-ce4f1b439427"
      },
      "execution_count": null,
      "outputs": [
        {
          "output_type": "stream",
          "name": "stdout",
          "text": [
            "<class 'pandas.core.frame.DataFrame'>\n",
            "RangeIndex: 21 entries, 0 to 20\n",
            "Data columns (total 1 columns):\n",
            " #   Column    Non-Null Count  Dtype\n",
            "---  ------    --------------  -----\n",
            " 0   Survived  21 non-null     int64\n",
            "dtypes: int64(1)\n",
            "memory usage: 296.0 bytes\n"
          ]
        }
      ]
    },
    {
      "cell_type": "code",
      "source": [
        "#predictions = pd.concat((test.iloc[:, 0], predictions), axis = 1)\n",
        "#np.shape(predictions)\n",
        "predictions.sample(n=21)"
      ],
      "metadata": {
        "id": "86dGRmjP-jk9",
        "colab": {
          "base_uri": "https://localhost:8080/",
          "height": 707
        },
        "outputId": "23929cbe-08f6-4ddd-c5d0-949413bf36a4"
      },
      "execution_count": null,
      "outputs": [
        {
          "output_type": "execute_result",
          "data": {
            "text/plain": [
              "    Survived\n",
              "1          0\n",
              "14         1\n",
              "4          0\n",
              "9          0\n",
              "2          0\n",
              "8          1\n",
              "11         1\n",
              "10         0\n",
              "0          0\n",
              "19         0\n",
              "16         0\n",
              "5          0\n",
              "13         0\n",
              "18         0\n",
              "12         0\n",
              "6          1\n",
              "3          1\n",
              "20         1\n",
              "17         0\n",
              "7          0\n",
              "15         1"
            ],
            "text/html": [
              "\n",
              "  <div id=\"df-9942ba27-83b9-4768-ac52-7efdb50d2a0b\">\n",
              "    <div class=\"colab-df-container\">\n",
              "      <div>\n",
              "<style scoped>\n",
              "    .dataframe tbody tr th:only-of-type {\n",
              "        vertical-align: middle;\n",
              "    }\n",
              "\n",
              "    .dataframe tbody tr th {\n",
              "        vertical-align: top;\n",
              "    }\n",
              "\n",
              "    .dataframe thead th {\n",
              "        text-align: right;\n",
              "    }\n",
              "</style>\n",
              "<table border=\"1\" class=\"dataframe\">\n",
              "  <thead>\n",
              "    <tr style=\"text-align: right;\">\n",
              "      <th></th>\n",
              "      <th>Survived</th>\n",
              "    </tr>\n",
              "  </thead>\n",
              "  <tbody>\n",
              "    <tr>\n",
              "      <th>1</th>\n",
              "      <td>0</td>\n",
              "    </tr>\n",
              "    <tr>\n",
              "      <th>14</th>\n",
              "      <td>1</td>\n",
              "    </tr>\n",
              "    <tr>\n",
              "      <th>4</th>\n",
              "      <td>0</td>\n",
              "    </tr>\n",
              "    <tr>\n",
              "      <th>9</th>\n",
              "      <td>0</td>\n",
              "    </tr>\n",
              "    <tr>\n",
              "      <th>2</th>\n",
              "      <td>0</td>\n",
              "    </tr>\n",
              "    <tr>\n",
              "      <th>8</th>\n",
              "      <td>1</td>\n",
              "    </tr>\n",
              "    <tr>\n",
              "      <th>11</th>\n",
              "      <td>1</td>\n",
              "    </tr>\n",
              "    <tr>\n",
              "      <th>10</th>\n",
              "      <td>0</td>\n",
              "    </tr>\n",
              "    <tr>\n",
              "      <th>0</th>\n",
              "      <td>0</td>\n",
              "    </tr>\n",
              "    <tr>\n",
              "      <th>19</th>\n",
              "      <td>0</td>\n",
              "    </tr>\n",
              "    <tr>\n",
              "      <th>16</th>\n",
              "      <td>0</td>\n",
              "    </tr>\n",
              "    <tr>\n",
              "      <th>5</th>\n",
              "      <td>0</td>\n",
              "    </tr>\n",
              "    <tr>\n",
              "      <th>13</th>\n",
              "      <td>0</td>\n",
              "    </tr>\n",
              "    <tr>\n",
              "      <th>18</th>\n",
              "      <td>0</td>\n",
              "    </tr>\n",
              "    <tr>\n",
              "      <th>12</th>\n",
              "      <td>0</td>\n",
              "    </tr>\n",
              "    <tr>\n",
              "      <th>6</th>\n",
              "      <td>1</td>\n",
              "    </tr>\n",
              "    <tr>\n",
              "      <th>3</th>\n",
              "      <td>1</td>\n",
              "    </tr>\n",
              "    <tr>\n",
              "      <th>20</th>\n",
              "      <td>1</td>\n",
              "    </tr>\n",
              "    <tr>\n",
              "      <th>17</th>\n",
              "      <td>0</td>\n",
              "    </tr>\n",
              "    <tr>\n",
              "      <th>7</th>\n",
              "      <td>0</td>\n",
              "    </tr>\n",
              "    <tr>\n",
              "      <th>15</th>\n",
              "      <td>1</td>\n",
              "    </tr>\n",
              "  </tbody>\n",
              "</table>\n",
              "</div>\n",
              "      <button class=\"colab-df-convert\" onclick=\"convertToInteractive('df-9942ba27-83b9-4768-ac52-7efdb50d2a0b')\"\n",
              "              title=\"Convert this dataframe to an interactive table.\"\n",
              "              style=\"display:none;\">\n",
              "        \n",
              "  <svg xmlns=\"http://www.w3.org/2000/svg\" height=\"24px\"viewBox=\"0 0 24 24\"\n",
              "       width=\"24px\">\n",
              "    <path d=\"M0 0h24v24H0V0z\" fill=\"none\"/>\n",
              "    <path d=\"M18.56 5.44l.94 2.06.94-2.06 2.06-.94-2.06-.94-.94-2.06-.94 2.06-2.06.94zm-11 1L8.5 8.5l.94-2.06 2.06-.94-2.06-.94L8.5 2.5l-.94 2.06-2.06.94zm10 10l.94 2.06.94-2.06 2.06-.94-2.06-.94-.94-2.06-.94 2.06-2.06.94z\"/><path d=\"M17.41 7.96l-1.37-1.37c-.4-.4-.92-.59-1.43-.59-.52 0-1.04.2-1.43.59L10.3 9.45l-7.72 7.72c-.78.78-.78 2.05 0 2.83L4 21.41c.39.39.9.59 1.41.59.51 0 1.02-.2 1.41-.59l7.78-7.78 2.81-2.81c.8-.78.8-2.07 0-2.86zM5.41 20L4 18.59l7.72-7.72 1.47 1.35L5.41 20z\"/>\n",
              "  </svg>\n",
              "      </button>\n",
              "      \n",
              "  <style>\n",
              "    .colab-df-container {\n",
              "      display:flex;\n",
              "      flex-wrap:wrap;\n",
              "      gap: 12px;\n",
              "    }\n",
              "\n",
              "    .colab-df-convert {\n",
              "      background-color: #E8F0FE;\n",
              "      border: none;\n",
              "      border-radius: 50%;\n",
              "      cursor: pointer;\n",
              "      display: none;\n",
              "      fill: #1967D2;\n",
              "      height: 32px;\n",
              "      padding: 0 0 0 0;\n",
              "      width: 32px;\n",
              "    }\n",
              "\n",
              "    .colab-df-convert:hover {\n",
              "      background-color: #E2EBFA;\n",
              "      box-shadow: 0px 1px 2px rgba(60, 64, 67, 0.3), 0px 1px 3px 1px rgba(60, 64, 67, 0.15);\n",
              "      fill: #174EA6;\n",
              "    }\n",
              "\n",
              "    [theme=dark] .colab-df-convert {\n",
              "      background-color: #3B4455;\n",
              "      fill: #D2E3FC;\n",
              "    }\n",
              "\n",
              "    [theme=dark] .colab-df-convert:hover {\n",
              "      background-color: #434B5C;\n",
              "      box-shadow: 0px 1px 3px 1px rgba(0, 0, 0, 0.15);\n",
              "      filter: drop-shadow(0px 1px 2px rgba(0, 0, 0, 0.3));\n",
              "      fill: #FFFFFF;\n",
              "    }\n",
              "  </style>\n",
              "\n",
              "      <script>\n",
              "        const buttonEl =\n",
              "          document.querySelector('#df-9942ba27-83b9-4768-ac52-7efdb50d2a0b button.colab-df-convert');\n",
              "        buttonEl.style.display =\n",
              "          google.colab.kernel.accessAllowed ? 'block' : 'none';\n",
              "\n",
              "        async function convertToInteractive(key) {\n",
              "          const element = document.querySelector('#df-9942ba27-83b9-4768-ac52-7efdb50d2a0b');\n",
              "          const dataTable =\n",
              "            await google.colab.kernel.invokeFunction('convertToInteractive',\n",
              "                                                     [key], {});\n",
              "          if (!dataTable) return;\n",
              "\n",
              "          const docLinkHtml = 'Like what you see? Visit the ' +\n",
              "            '<a target=\"_blank\" href=https://colab.research.google.com/notebooks/data_table.ipynb>data table notebook</a>'\n",
              "            + ' to learn more about interactive tables.';\n",
              "          element.innerHTML = '';\n",
              "          dataTable['output_type'] = 'display_data';\n",
              "          await google.colab.output.renderOutput(dataTable, element);\n",
              "          const docLink = document.createElement('div');\n",
              "          docLink.innerHTML = docLinkHtml;\n",
              "          element.appendChild(docLink);\n",
              "        }\n",
              "      </script>\n",
              "    </div>\n",
              "  </div>\n",
              "  "
            ]
          },
          "metadata": {},
          "execution_count": 35
        }
      ]
    },
    {
      "cell_type": "code",
      "source": [
        "#Create the Survival Report\n",
        "# Concatenate the predictions and saved.test.data matrices\n",
        "survival_report = pd.concat([predictions, saved_test_data], axis=1)\n",
        "\n",
        "# Sort the survival_report matrix by the passengerId column\n",
        "survival_report = survival_report.sort_values('PassengerId')\n",
        "\n",
        "# Replace the Survived column with a text column\n",
        "survival_report['Survived'] = survival_report['Survived'].replace({0: 'No', 1: 'Yes'})\n",
        "\n",
        "# Display the survival_report matrix in index order\n",
        "# and Survived value in the fourth column\n",
        "print(survival_report[['PassengerId', 'Name', 'Survived']])\n"
      ],
      "metadata": {
        "colab": {
          "base_uri": "https://localhost:8080/"
        },
        "id": "A_DCTtdRmHaz",
        "outputId": "40d6f6b1-4aaf-43a7-c8b9-50d0a064c8da"
      },
      "execution_count": null,
      "outputs": [
        {
          "output_type": "stream",
          "name": "stdout",
          "text": [
            "    PassengerId                    Name Survived\n",
            "0           892        Becker, Mr. Reid       No\n",
            "1           893      Name2, Miss. Name2       No\n",
            "2           894       Name3, Maj. Name3       No\n",
            "3           895       Name4, Mrs. Name4      Yes\n",
            "4           896    Name5, Master. Name5       No\n",
            "5           897      Name6, Miss. Name6       No\n",
            "6           898      Name7, Miss. Name7      Yes\n",
            "7           899  Name8, Jonkheer. Name8       No\n",
            "8           900    Name9, Master. Name9      Yes\n",
            "9           901    Name10, Miss. Name10       No\n",
            "10          902  Name11, Master. Name11       No\n",
            "11          903     Name12, Mrs. Name12      Yes\n",
            "12          904    Name13, Miss. Name13       No\n",
            "13          905      Name14, Mr. Name14       No\n",
            "14          906     Name15, Mrs. Name15      Yes\n",
            "15          907  Name16, Master. Name16      Yes\n",
            "16          908      Name17, Mr. Name17       No\n",
            "17          909    Name18, Miss. Name18       No\n",
            "18          910      Name19, Mr. Name19       No\n",
            "19          911     Name20, Mrs. Name20       No\n",
            "20          912    Name21, Miss. Name21      Yes\n"
          ]
        }
      ]
    },
    {
      "cell_type": "markdown",
      "metadata": {
        "id": "6o97SMPK31G1"
      },
      "source": [
        "# Conclusion\n",
        "The purpose of this exercise was to provide some more experience on running a model. We used a Random forest model which is a \"souped up\" Decision Tree model. We have already run a Decision Tree model. \n"
      ]
    }
  ],
  "metadata": {
    "colab": {
      "provenance": [],
      "include_colab_link": true
    },
    "kernelspec": {
      "display_name": "Python 3",
      "language": "python",
      "name": "python3"
    },
    "language_info": {
      "codemirror_mode": {
        "name": "ipython",
        "version": 3
      },
      "file_extension": ".py",
      "mimetype": "text/x-python",
      "name": "python",
      "nbconvert_exporter": "python",
      "pygments_lexer": "ipython3",
      "version": "3.6.4"
    }
  },
  "nbformat": 4,
  "nbformat_minor": 0
}